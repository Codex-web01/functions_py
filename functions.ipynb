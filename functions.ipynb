{
 "cells": [
  {
   "cell_type": "code",
   "execution_count": 4,
   "id": "8268cd11-c5c4-4110-88a5-708761ab53b2",
   "metadata": {},
   "outputs": [],
   "source": [
    "#Write a Python function that takes a list of numbers as input and returns the sum of all even numbers in the list.\n",
    "\n",
    "def sum_of_evens(numbers):\n",
    "    return sum(num for num in numbers if num % 2 == 0)\n"
   ]
  },
  {
   "cell_type": "code",
   "execution_count": 7,
   "id": "42db6cb5-cdeb-49dc-a0e7-7539a9de1395",
   "metadata": {},
   "outputs": [
    {
     "data": {
      "text/plain": [
       "14"
      ]
     },
     "execution_count": 7,
     "metadata": {},
     "output_type": "execute_result"
    }
   ],
   "source": [
    "sum_of_evens([1, 5, 2, 8, 4, 9])"
   ]
  },
  {
   "cell_type": "code",
   "execution_count": 12,
   "id": "1da4b8c8-133e-4d4e-911e-fc9754329103",
   "metadata": {},
   "outputs": [],
   "source": [
    "#Create a Python function that accepts a string and returns the reverse of that string.\n",
    "\n",
    "def reverse_string(s):\n",
    "    return s[::-1]"
   ]
  },
  {
   "cell_type": "code",
   "execution_count": 9,
   "id": "8ae40f97-6c79-4618-aa33-07ed328cda51",
   "metadata": {},
   "outputs": [
    {
     "data": {
      "text/plain": [
       "'tajirap'"
      ]
     },
     "execution_count": 9,
     "metadata": {},
     "output_type": "execute_result"
    }
   ],
   "source": [
    "reverse_string(\"parijat\")"
   ]
  },
  {
   "cell_type": "code",
   "execution_count": 14,
   "id": "43b10221-18b1-4cb4-8981-ed37e77fa99c",
   "metadata": {},
   "outputs": [],
   "source": [
    "#Implement a Python function that takes a list of integers and returns a new list containing the squares of each number.\n",
    "\n",
    "def square_list(numbers):\n",
    "    return [num ** 2 for num in numbers]"
   ]
  },
  {
   "cell_type": "code",
   "execution_count": 13,
   "id": "79968380-5b90-43e5-afb4-7cda199130a9",
   "metadata": {},
   "outputs": [
    {
     "data": {
      "text/plain": [
       "[1, 25, 4, 9]"
      ]
     },
     "execution_count": 13,
     "metadata": {},
     "output_type": "execute_result"
    }
   ],
   "source": [
    "square_list([1,5,2,3])"
   ]
  },
  {
   "cell_type": "code",
   "execution_count": 18,
   "id": "1d8133b1-a6e0-4d67-8e9b-9431f6d10475",
   "metadata": {},
   "outputs": [
    {
     "name": "stdout",
     "output_type": "stream",
     "text": [
      "[2, 3, 5, 7, 11, 13, 17, 19, 23, 29, 31, 37, 41, 43, 47, 53, 59, 61, 67, 71, 73, 79, 83, 89, 97, 101, 103, 107, 109, 113, 127, 131, 137, 139, 149, 151, 157, 163, 167, 173, 179, 181, 191, 193, 197, 199]\n"
     ]
    }
   ],
   "source": [
    "#Write a Python function that checks if a given number is prime or not from 1 to 200.\n",
    "\n",
    "def is_prime(n):\n",
    "    if n < 2:\n",
    "        return False\n",
    "    for i in range(2, n):  # Loop from 2 to n-1\n",
    "        if n % i == 0:\n",
    "            return False\n",
    "    return True\n",
    "\n",
    "primes = []\n",
    "for i in range(1, 201):\n",
    "    if is_prime(i):\n",
    "        primes.append(i)\n",
    "\n",
    "print(primes)\n"
   ]
  },
  {
   "cell_type": "code",
   "execution_count": 19,
   "id": "de951b75-a2d3-44b0-931d-7266089c636f",
   "metadata": {},
   "outputs": [],
   "source": [
    "# Create an iterator class in Python that generates the Fibonacci sequence up to a specified number of terms.\n",
    "\n"
   ]
  },
  {
   "cell_type": "code",
   "execution_count": 20,
   "id": "463b2296-aa5b-42b8-b0c4-c5b3d1565483",
   "metadata": {},
   "outputs": [],
   "source": [
    "# Write a generator function in Python that yields the powers of 2 up to a given exponent.\n",
    "\n",
    "def powers_of_two(exponent):\n",
    "    for i in range(exponent + 1):\n",
    "        yield 2 ** i\n"
   ]
  },
  {
   "cell_type": "code",
   "execution_count": 35,
   "id": "15d93244-ccbf-4940-9136-050824a4a029",
   "metadata": {},
   "outputs": [],
   "source": [
    "gen=powers_of_two(4)"
   ]
  },
  {
   "cell_type": "code",
   "execution_count": 36,
   "id": "ae53cdb6-b586-4391-abff-800355f74361",
   "metadata": {},
   "outputs": [
    {
     "name": "stdout",
     "output_type": "stream",
     "text": [
      "1\n"
     ]
    }
   ],
   "source": [
    "print(next(gen))"
   ]
  },
  {
   "cell_type": "code",
   "execution_count": 37,
   "id": "34805b1d-8f9c-45c3-850f-07f0040ef564",
   "metadata": {},
   "outputs": [
    {
     "data": {
      "text/plain": [
       "2"
      ]
     },
     "execution_count": 37,
     "metadata": {},
     "output_type": "execute_result"
    }
   ],
   "source": [
    "next(gen)"
   ]
  },
  {
   "cell_type": "code",
   "execution_count": 38,
   "id": "d760a401-4332-40f2-ba4e-2939ce6ab34a",
   "metadata": {},
   "outputs": [
    {
     "data": {
      "text/plain": [
       "4"
      ]
     },
     "execution_count": 38,
     "metadata": {},
     "output_type": "execute_result"
    }
   ],
   "source": [
    "next(gen)"
   ]
  },
  {
   "cell_type": "code",
   "execution_count": 39,
   "id": "a40661f9-0d76-4ee8-a57c-993bdec00462",
   "metadata": {},
   "outputs": [
    {
     "data": {
      "text/plain": [
       "8"
      ]
     },
     "execution_count": 39,
     "metadata": {},
     "output_type": "execute_result"
    }
   ],
   "source": [
    "next(gen)"
   ]
  },
  {
   "cell_type": "code",
   "execution_count": 40,
   "id": "0779c87d-3c22-4206-9456-f31b434d72d6",
   "metadata": {},
   "outputs": [
    {
     "data": {
      "text/plain": [
       "16"
      ]
     },
     "execution_count": 40,
     "metadata": {},
     "output_type": "execute_result"
    }
   ],
   "source": [
    "next(gen)"
   ]
  },
  {
   "cell_type": "code",
   "execution_count": 41,
   "id": "ad3c1221-fdf0-4ce3-823d-d621186ce267",
   "metadata": {},
   "outputs": [
    {
     "ename": "StopIteration",
     "evalue": "",
     "output_type": "error",
     "traceback": [
      "\u001b[1;31m---------------------------------------------------------------------------\u001b[0m",
      "\u001b[1;31mStopIteration\u001b[0m                             Traceback (most recent call last)",
      "Cell \u001b[1;32mIn[41], line 1\u001b[0m\n\u001b[1;32m----> 1\u001b[0m \u001b[38;5;28;43mnext\u001b[39;49m\u001b[43m(\u001b[49m\u001b[43mgen\u001b[49m\u001b[43m)\u001b[49m\n",
      "\u001b[1;31mStopIteration\u001b[0m: "
     ]
    }
   ],
   "source": [
    "next(gen)"
   ]
  },
  {
   "cell_type": "code",
   "execution_count": 43,
   "id": "6c6ffc02-39db-4595-98d8-7a41b1853133",
   "metadata": {},
   "outputs": [],
   "source": [
    "# Implement a generator function that reads a file line by line and yields each line as a string.\n",
    "\n",
    "def read_file_line_by_line(filepath):\n",
    "    with open(filepath, 'r') as file:\n",
    "        for line in file:\n",
    "            yield line.strip()"
   ]
  },
  {
   "cell_type": "code",
   "execution_count": 44,
   "id": "33ceca80-a664-4e27-905c-80d314d4348d",
   "metadata": {},
   "outputs": [],
   "source": [
    "#Use a lambda function in Python to sort a list of tuples based on the second element of each tuple.\n",
    "\n",
    "def sort_by_second_element(tuples):\n",
    "    return sorted(tuples, key=lambda x: x[1])\n"
   ]
  },
  {
   "cell_type": "code",
   "execution_count": 49,
   "id": "275b88c9-a70e-42c4-83b9-db9edd810b3b",
   "metadata": {},
   "outputs": [
    {
     "data": {
      "text/plain": [
       "[(3, 'apple'), (1, 'banana'), (2, 'cherry'), (4, 'date')]"
      ]
     },
     "execution_count": 49,
     "metadata": {},
     "output_type": "execute_result"
    }
   ],
   "source": [
    "sort_by_second_element([(1, 'banana'), (3, 'apple'), (2, 'cherry'), (4, 'date')])"
   ]
  },
  {
   "cell_type": "code",
   "execution_count": 50,
   "id": "cce3d9ed-59cb-4931-91c8-ccdb6c025cba",
   "metadata": {},
   "outputs": [],
   "source": [
    "#Write a Python program that uses map() to convert a list of temperatures from Celsius to Fahrenheit.\n",
    "\n",
    "def celsius_to_fahrenheit(celsius_list):\n",
    "    return list(map(lambda c: (c * 9/5) + 32, celsius_list))\n"
   ]
  },
  {
   "cell_type": "code",
   "execution_count": 51,
   "id": "1489118d-59d5-40a8-94d3-35b02e6e9162",
   "metadata": {},
   "outputs": [
    {
     "data": {
      "text/plain": [
       "[32.0, 93.2, 98.6, 210.2]"
      ]
     },
     "execution_count": 51,
     "metadata": {},
     "output_type": "execute_result"
    }
   ],
   "source": [
    "celsius_to_fahrenheit([0,34,37,99])"
   ]
  },
  {
   "cell_type": "code",
   "execution_count": 52,
   "id": "aa4049b5-84bc-424e-a621-497069e6e14f",
   "metadata": {},
   "outputs": [],
   "source": [
    "#Create a Python program that uses filter() to remove all the vowels from a given string.\n",
    "def remove_vowels(s):\n",
    "    vowels = 'aeiouAEIOU'\n",
    "    return ''.join(filter(lambda x: x not in vowels, s))\n"
   ]
  },
  {
   "cell_type": "code",
   "execution_count": 53,
   "id": "b9b6aa0c-8b71-449b-be91-1f6b7173cd9f",
   "metadata": {},
   "outputs": [
    {
     "data": {
      "text/plain": [
       "'hll ppl'"
      ]
     },
     "execution_count": 53,
     "metadata": {},
     "output_type": "execute_result"
    }
   ],
   "source": [
    "remove_vowels(\"hello people\")"
   ]
  },
  {
   "cell_type": "code",
   "execution_count": null,
   "id": "88a1889d-6ede-4f5a-9165-0ae58b033c55",
   "metadata": {},
   "outputs": [],
   "source": []
  }
 ],
 "metadata": {
  "kernelspec": {
   "display_name": "Python 3 (ipykernel)",
   "language": "python",
   "name": "python3"
  },
  "language_info": {
   "codemirror_mode": {
    "name": "ipython",
    "version": 3
   },
   "file_extension": ".py",
   "mimetype": "text/x-python",
   "name": "python",
   "nbconvert_exporter": "python",
   "pygments_lexer": "ipython3",
   "version": "3.12.6"
  }
 },
 "nbformat": 4,
 "nbformat_minor": 5
}
